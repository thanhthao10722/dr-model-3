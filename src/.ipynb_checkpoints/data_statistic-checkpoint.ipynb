{
 "cells": [
  {
   "cell_type": "code",
   "execution_count": 13,
   "metadata": {},
   "outputs": [],
   "source": [
    "import pandas as pd\n",
    "import seaborn as sns"
   ]
  },
  {
   "cell_type": "code",
   "execution_count": 14,
   "metadata": {},
   "outputs": [],
   "source": [
    "columns = [\"id_code\", \"level\"]\n",
    "data_1 = pd.read_csv('../data/dr_data_1/train.csv')\n",
    "data_1 = data_1.loc[:, ~data_1.columns.str.contains('Unnamed')]\n",
    "\n",
    "data_2 = pd.read_csv('../data/dr_data_2/train.csv')\n",
    "data_2 = data_2.loc[:, ~data_2.columns.str.contains('Unnamed')]\n",
    "\n",
    "test = pd.read_csv('../data/dr_test/test.csv')\n",
    "test = test.loc[:, ~test.columns.str.contains('Unnamed')]\n",
    "\n",
    "data = pd.concat([data_1, data_2])\n",
    "test.columns = columns\n",
    "data.columns = columns"
   ]
  },
  {
   "cell_type": "code",
   "execution_count": 15,
   "metadata": {},
   "outputs": [
    {
     "data": {
      "image/png": "[encoded data removed]",
      "text/plain": [
       "<Figure size 432x288 with 1 Axes>"
      ]
     },
     "metadata": {
      "needs_background": "light"
     },
     "output_type": "display_data"
    }
   ],
   "source": [
    "ax = sns.countplot(x=\"level\", data=data, palette=\"GnBu_d\")\n",
    "for p in ax.patches:\n",
    "    ax.annotate(f'{p.get_height()}', (p.get_x()+0.2, p.get_height()+3))"
   ]
  },
  {
   "cell_type": "code",
   "execution_count": 16,
   "metadata": {},
   "outputs": [
    {
     "data": {
      "image/png": "[encoded data removed]",
      "text/plain": [
       "<Figure size 432x288 with 1 Axes>"
      ]
     },
     "metadata": {
      "needs_background": "light"
     },
     "output_type": "display_data"
    }
   ],
   "source": [
    "ax = sns.countplot(x=\"level\", data=test, palette=\"GnBu_d\")\n",
    "for p in ax.patches:\n",
    "    ax.annotate(f'{p.get_height()}', (p.get_x()+0.2, p.get_height()+3))"
   ]
  },
  {
   "cell_type": "code",
   "execution_count": 19,
   "metadata": {},
   "outputs": [],
   "source": [
    "def get_number_samples(dataframe):\n",
    "    label_0 = dataframe[dataframe[\"diagnosis\"] == 0]\n",
    "    label_1 = dataframe[dataframe[\"diagnosis\"] == 1]\n",
    "    label_2 = dataframe[dataframe[\"diagnosis\"] == 2]\n",
    "    label_3 = dataframe[dataframe[\"diagnosis\"] == 3]\n",
    "    label_4 = dataframe[dataframe[\"diagnosis\"] == 4]\n",
    "    return {\n",
    "        \"label_0\": len(label_0),\n",
    "        \"label_1\": len(label_1),\n",
    "        \"label_2\": len(label_2),\n",
    "        \"label_3\": len(label_3),\n",
    "        \"label_4\": len(label_4),\n",
    "    }"
   ]
  },
  {
   "cell_type": "code",
   "execution_count": 27,
   "metadata": {},
   "outputs": [
    {
     "name": "stdout",
     "output_type": "stream",
     "text": [
      "{'fold_0': {'train': {'label_0': 6678, 'label_1': 2210, 'label_2': 4993, 'label_3': 837, 'label_4': 786}, 'validation': {'label_0': 1670, 'label_1': 553, 'label_2': 1248, 'label_3': 209, 'label_4': 197}}, 'fold_1': {'train': {'label_0': 6678, 'label_1': 2211, 'label_2': 4993, 'label_3': 837, 'label_4': 786}, 'validation': {'label_0': 1670, 'label_1': 552, 'label_2': 1248, 'label_3': 209, 'label_4': 197}}, 'fold_2': {'train': {'label_0': 6678, 'label_1': 2211, 'label_2': 4993, 'label_3': 836, 'label_4': 787}, 'validation': {'label_0': 1670, 'label_1': 552, 'label_2': 1248, 'label_3': 210, 'label_4': 196}}, 'fold_3': {'train': {'label_0': 6679, 'label_1': 2210, 'label_2': 4992, 'label_3': 837, 'label_4': 787}, 'validation': {'label_0': 1669, 'label_1': 553, 'label_2': 1249, 'label_3': 209, 'label_4': 196}}, 'fold_4': {'train': {'label_0': 6679, 'label_1': 2210, 'label_2': 4993, 'label_3': 837, 'label_4': 786}, 'validation': {'label_0': 1669, 'label_1': 553, 'label_2': 1248, 'label_3': 209, 'label_4': 197}}}\n"
     ]
    }
   ],
   "source": [
    "five_fold_data = pd.read_csv('../output/data_5_fold.csv')\n",
    "\n",
    "samples = {}\n",
    "for i in range(0, 5):\n",
    "    fold_number = f\"fold_{i}\"\n",
    "    train = five_fold_data[five_fold_data[fold_number] == 'train']\n",
    "    validation = five_fold_data[five_fold_data[fold_number] == 'validation']\n",
    "    samples[fold_number] = {\n",
    "        \"train\": get_number_samples(train),\n",
    "        \"validation\": get_number_samples(validation)\n",
    "    }\n",
    "display(samples)"
   ]
  },
  {
   "cell_type": "code",
   "execution_count": null,
   "metadata": {},
   "outputs": [],
   "source": []
  }
 ],
 "metadata": {
  "kernelspec": {
   "display_name": "Python 3",
   "language": "python",
   "name": "python3"
  },
  "language_info": {
   "codemirror_mode": {
    "name": "ipython",
    "version": 3
   },
   "file_extension": ".py",
   "mimetype": "text/x-python",
   "name": "python",
   "nbconvert_exporter": "python",
   "pygments_lexer": "ipython3",
   "version": "3.6.9"
  }
 },
 "nbformat": 4,
 "nbformat_minor": 4
}
