{
 "cells": [
  {
   "cell_type": "markdown",
   "metadata": {},
   "source": [
    "## Dependencies"
   ]
  },
  {
   "cell_type": "code",
   "execution_count": 1,
   "metadata": {
    "_cell_guid": "b1076dfc-b9ad-4769-8c92-a6c4dae69d19",
    "_kg_hide-input": true,
    "_kg_hide-output": true,
    "_uuid": "8f2839f25d086af736a60e9eeb907d3b93b6e0e5"
   },
   "outputs": [
    {
     "name": "stderr",
     "output_type": "stream",
     "text": [
      "/opt/conda/lib/python3.6/site-packages/tensorflow/python/framework/dtypes.py:516: FutureWarning: Passing (type, 1) or '1type' as a synonym of type is deprecated; in a future version of numpy, it will be understood as (type, (1,)) / '(1,)type'.\n",
      "  _np_qint8 = np.dtype([(\"qint8\", np.int8, 1)])\n",
      "/opt/conda/lib/python3.6/site-packages/tensorflow/python/framework/dtypes.py:517: FutureWarning: Passing (type, 1) or '1type' as a synonym of type is deprecated; in a future version of numpy, it will be understood as (type, (1,)) / '(1,)type'.\n",
      "  _np_quint8 = np.dtype([(\"quint8\", np.uint8, 1)])\n",
      "/opt/conda/lib/python3.6/site-packages/tensorflow/python/framework/dtypes.py:518: FutureWarning: Passing (type, 1) or '1type' as a synonym of type is deprecated; in a future version of numpy, it will be understood as (type, (1,)) / '(1,)type'.\n",
      "  _np_qint16 = np.dtype([(\"qint16\", np.int16, 1)])\n",
      "/opt/conda/lib/python3.6/site-packages/tensorflow/python/framework/dtypes.py:519: FutureWarning: Passing (type, 1) or '1type' as a synonym of type is deprecated; in a future version of numpy, it will be understood as (type, (1,)) / '(1,)type'.\n",
      "  _np_quint16 = np.dtype([(\"quint16\", np.uint16, 1)])\n",
      "/opt/conda/lib/python3.6/site-packages/tensorflow/python/framework/dtypes.py:520: FutureWarning: Passing (type, 1) or '1type' as a synonym of type is deprecated; in a future version of numpy, it will be understood as (type, (1,)) / '(1,)type'.\n",
      "  _np_qint32 = np.dtype([(\"qint32\", np.int32, 1)])\n",
      "/opt/conda/lib/python3.6/site-packages/tensorflow/python/framework/dtypes.py:525: FutureWarning: Passing (type, 1) or '1type' as a synonym of type is deprecated; in a future version of numpy, it will be understood as (type, (1,)) / '(1,)type'.\n",
      "  np_resource = np.dtype([(\"resource\", np.ubyte, 1)])\n",
      "/opt/conda/lib/python3.6/site-packages/tensorboard/compat/tensorflow_stub/dtypes.py:541: FutureWarning: Passing (type, 1) or '1type' as a synonym of type is deprecated; in a future version of numpy, it will be understood as (type, (1,)) / '(1,)type'.\n",
      "  _np_qint8 = np.dtype([(\"qint8\", np.int8, 1)])\n",
      "/opt/conda/lib/python3.6/site-packages/tensorboard/compat/tensorflow_stub/dtypes.py:542: FutureWarning: Passing (type, 1) or '1type' as a synonym of type is deprecated; in a future version of numpy, it will be understood as (type, (1,)) / '(1,)type'.\n",
      "  _np_quint8 = np.dtype([(\"quint8\", np.uint8, 1)])\n",
      "/opt/conda/lib/python3.6/site-packages/tensorboard/compat/tensorflow_stub/dtypes.py:543: FutureWarning: Passing (type, 1) or '1type' as a synonym of type is deprecated; in a future version of numpy, it will be understood as (type, (1,)) / '(1,)type'.\n",
      "  _np_qint16 = np.dtype([(\"qint16\", np.int16, 1)])\n",
      "/opt/conda/lib/python3.6/site-packages/tensorboard/compat/tensorflow_stub/dtypes.py:544: FutureWarning: Passing (type, 1) or '1type' as a synonym of type is deprecated; in a future version of numpy, it will be understood as (type, (1,)) / '(1,)type'.\n",
      "  _np_quint16 = np.dtype([(\"quint16\", np.uint16, 1)])\n",
      "/opt/conda/lib/python3.6/site-packages/tensorboard/compat/tensorflow_stub/dtypes.py:545: FutureWarning: Passing (type, 1) or '1type' as a synonym of type is deprecated; in a future version of numpy, it will be understood as (type, (1,)) / '(1,)type'.\n",
      "  _np_qint32 = np.dtype([(\"qint32\", np.int32, 1)])\n",
      "/opt/conda/lib/python3.6/site-packages/tensorboard/compat/tensorflow_stub/dtypes.py:550: FutureWarning: Passing (type, 1) or '1type' as a synonym of type is deprecated; in a future version of numpy, it will be understood as (type, (1,)) / '(1,)type'.\n",
      "  np_resource = np.dtype([(\"resource\", np.ubyte, 1)])\n",
      "Using TensorFlow backend.\n"
     ]
    }
   ],
   "source": [
    "import os\n",
    "import sys\n",
    "import cv2\n",
    "import shutil\n",
    "import random\n",
    "import warnings\n",
    "import numpy as np\n",
    "import pandas as pd\n",
    "import seaborn as sns\n",
    "import multiprocessing as mp\n",
    "import matplotlib.pyplot as plt\n",
    "from tensorflow import set_random_seed\n",
    "from sklearn.metrics import confusion_matrix, cohen_kappa_score\n",
    "from keras.models import Model\n",
    "from keras.preprocessing.image import ImageDataGenerator\n",
    "from keras.layers import Dense, GlobalAveragePooling2D, Input\n",
    "\n",
    "def seed_everything(seed=0):\n",
    "    random.seed(seed)\n",
    "    os.environ['PYTHONHASHSEED'] = str(seed)\n",
    "    np.random.seed(seed)\n",
    "    set_random_seed(0)\n",
    "\n",
    "seed = 0\n",
    "seed_everything(seed)\n",
    "%matplotlib inline\n",
    "sns.set(style=\"whitegrid\")\n",
    "warnings.filterwarnings(\"ignore\")\n",
    "sys.path.append(os.path.abspath('../input/efficientnet/efficientnet-master/efficientnet-master/'))\n",
    "from efficientnet import *"
   ]
  },
  {
   "cell_type": "markdown",
   "metadata": {
    "_kg_hide-output": true
   },
   "source": [
    "## Load data"
   ]
  },
  {
   "cell_type": "code",
   "execution_count": 2,
   "metadata": {
    "_cell_guid": "79c7e3d0-c299-4dcb-8224-4455121ee9b0",
    "_kg_hide-input": true,
    "_uuid": "d629ff2d2480ee46fbb7e2d37f6b5fab8052498a"
   },
   "outputs": [
    {
     "name": "stdout",
     "output_type": "stream",
     "text": [
      "Number of train samples:  2929\n",
      "Number of validation samples:  733\n",
      "Number of test samples:  1928\n"
     ]
    },
    {
     "data": {
      "text/html": [
       "<div>\n",
       "<style scoped>\n",
       "    .dataframe tbody tr th:only-of-type {\n",
       "        vertical-align: middle;\n",
       "    }\n",
       "\n",
       "    .dataframe tbody tr th {\n",
       "        vertical-align: top;\n",
       "    }\n",
       "\n",
       "    .dataframe thead th {\n",
       "        text-align: right;\n",
       "    }\n",
       "</style>\n",
       "<table border=\"1\" class=\"dataframe\">\n",
       "  <thead>\n",
       "    <tr style=\"text-align: right;\">\n",
       "      <th></th>\n",
       "      <th>id_code</th>\n",
       "      <th>diagnosis</th>\n",
       "      <th>height</th>\n",
       "      <th>width</th>\n",
       "      <th>set</th>\n",
       "    </tr>\n",
       "  </thead>\n",
       "  <tbody>\n",
       "    <tr>\n",
       "      <th>0</th>\n",
       "      <td>55eac26bd383.png</td>\n",
       "      <td>1</td>\n",
       "      <td>1736</td>\n",
       "      <td>2416</td>\n",
       "      <td>train</td>\n",
       "    </tr>\n",
       "    <tr>\n",
       "      <th>1</th>\n",
       "      <td>44e0d56e9d42.png</td>\n",
       "      <td>2</td>\n",
       "      <td>2136</td>\n",
       "      <td>3216</td>\n",
       "      <td>train</td>\n",
       "    </tr>\n",
       "    <tr>\n",
       "      <th>2</th>\n",
       "      <td>aa4407aab872.png</td>\n",
       "      <td>0</td>\n",
       "      <td>1050</td>\n",
       "      <td>1050</td>\n",
       "      <td>train</td>\n",
       "    </tr>\n",
       "    <tr>\n",
       "      <th>3</th>\n",
       "      <td>cffc50047828.png</td>\n",
       "      <td>0</td>\n",
       "      <td>614</td>\n",
       "      <td>819</td>\n",
       "      <td>train</td>\n",
       "    </tr>\n",
       "    <tr>\n",
       "      <th>4</th>\n",
       "      <td>b0f0fa677d5f.png</td>\n",
       "      <td>0</td>\n",
       "      <td>1050</td>\n",
       "      <td>1050</td>\n",
       "      <td>train</td>\n",
       "    </tr>\n",
       "  </tbody>\n",
       "</table>\n",
       "</div>"
      ],
      "text/plain": [
       "            id_code  diagnosis  height  width    set\n",
       "0  55eac26bd383.png          1    1736   2416  train\n",
       "1  44e0d56e9d42.png          2    2136   3216  train\n",
       "2  aa4407aab872.png          0    1050   1050  train\n",
       "3  cffc50047828.png          0     614    819  train\n",
       "4  b0f0fa677d5f.png          0    1050   1050  train"
      ]
     },
     "metadata": {},
     "output_type": "display_data"
    }
   ],
   "source": [
    "hold_out_set = pd.read_csv('../input/aptos-data-split/hold-out.csv')\n",
    "X_train = hold_out_set[hold_out_set['set'] == 'train']\n",
    "X_val = hold_out_set[hold_out_set['set'] == 'validation']\n",
    "test = pd.read_csv('../input/aptos2019-blindness-detection/test.csv')\n",
    "print('Number of train samples: ', X_train.shape[0])\n",
    "print('Number of validation samples: ', X_val.shape[0])\n",
    "print('Number of test samples: ', test.shape[0])\n",
    "\n",
    "# Preprocecss data\n",
    "X_train[\"id_code\"] = X_train[\"id_code\"].apply(lambda x: x + \".png\")\n",
    "X_val[\"id_code\"] = X_val[\"id_code\"].apply(lambda x: x + \".png\")\n",
    "test[\"id_code\"] = test[\"id_code\"].apply(lambda x: x + \".png\")\n",
    "display(X_train.head())"
   ]
  },
  {
   "cell_type": "markdown",
   "metadata": {},
   "source": [
    "# Model parameters"
   ]
  },
  {
   "cell_type": "code",
   "execution_count": 3,
   "metadata": {},
   "outputs": [],
   "source": [
    "# Model parameters\n",
    "HEIGHT = 224\n",
    "WIDTH = 224\n",
    "CHANNELS = 3\n",
    "TTA_STEPS = 10\n",
    "\n",
    "weights_path_list = ['../input/aptos-5fold-224-oldnew/effNetB5_img224_fold1.h5', '../input/aptos-5fold-224-oldnew/effNetB5_img224_fold2.h5',\n",
    "                     '../input/aptos-5fold-224-oldnew/effNetB5_img224_fold3.h5', '../input/aptos-5fold-224-oldnew/effNetB5_img224_fold4.h5',\n",
    "                     '../input/aptos-5fold-224-oldnew/effNetB5_img224_fold5.h5']"
   ]
  },
  {
   "cell_type": "code",
   "execution_count": 4,
   "metadata": {
    "_kg_hide-input": true
   },
   "outputs": [],
   "source": [
    "labels = ['0 - No DR', '1 - Mild', '2 - Moderate', '3 - Severe', '4 - Proliferative DR']\n",
    "def plot_confusion_matrix(train, validation, labels=labels):\n",
    "    train_labels, train_preds = train\n",
    "    validation_labels, validation_preds = validation\n",
    "    fig, (ax1, ax2) = plt.subplots(1, 2, sharex='col', figsize=(24, 7))\n",
    "    train_cnf_matrix = confusion_matrix(train_labels, train_preds)\n",
    "    validation_cnf_matrix = confusion_matrix(validation_labels, validation_preds)\n",
    "\n",
    "    train_cnf_matrix_norm = train_cnf_matrix.astype('float') / train_cnf_matrix.sum(axis=1)[:, np.newaxis]\n",
    "    validation_cnf_matrix_norm = validation_cnf_matrix.astype('float') / validation_cnf_matrix.sum(axis=1)[:, np.newaxis]\n",
    "\n",
    "    train_df_cm = pd.DataFrame(train_cnf_matrix_norm, index=labels, columns=labels)\n",
    "    validation_df_cm = pd.DataFrame(validation_cnf_matrix_norm, index=labels, columns=labels)\n",
    "\n",
    "    sns.heatmap(train_df_cm, annot=True, fmt='.2f', cmap=\"Blues\",ax=ax1).set_title('Train')\n",
    "    sns.heatmap(validation_df_cm, annot=True, fmt='.2f', cmap=sns.cubehelix_palette(8),ax=ax2).set_title('Validation')\n",
    "    plt.show()\n",
    "    \n",
    "def evaluate_model(train, validation):\n",
    "    train_labels, train_preds = train\n",
    "    validation_labels, validation_preds = validation\n",
    "    print(\"Train        Cohen Kappa score: %.3f\" % cohen_kappa_score(train_preds, train_labels, weights='quadratic'))\n",
    "    print(\"Validation   Cohen Kappa score: %.3f\" % cohen_kappa_score(validation_preds, validation_labels, weights='quadratic'))\n",
    "    print(\"Complete set Cohen Kappa score: %.3f\" % cohen_kappa_score(np.append(train_preds, validation_preds), np.append(train_labels, validation_labels), weights='quadratic'))\n",
    "\n",
    "def classify(x):\n",
    "    if x < 0.5:\n",
    "        return 0\n",
    "    elif x < 1.5:\n",
    "        return 1\n",
    "    elif x < 2.5:\n",
    "        return 2\n",
    "    elif x < 3.5:\n",
    "        return 3\n",
    "    return 4\n",
    "\n",
    "def ensemble_preds(model_list, generator):\n",
    "    preds_ensemble = []\n",
    "    for model in model_list:\n",
    "        generator.reset()\n",
    "        preds = model.predict_generator(generator, steps=generator.n)\n",
    "        preds_ensemble.append(preds)\n",
    "\n",
    "    return np.mean(preds_ensemble, axis=0)\n",
    "\n",
    "def apply_tta(model, generator, steps=5):\n",
    "    step_size = generator.n//generator.batch_size\n",
    "    preds_tta = []\n",
    "    for i in range(steps):\n",
    "        generator.reset()\n",
    "        preds = model.predict_generator(generator, steps=step_size)\n",
    "        preds_tta.append(preds)\n",
    "\n",
    "    return np.mean(preds_tta, axis=0)\n",
    "\n",
    "def test_ensemble_preds(model_list, generator, steps=5):\n",
    "    preds_ensemble = []\n",
    "    for model in model_list:\n",
    "        preds = apply_tta(model, generator, steps)\n",
    "        preds_ensemble.append(preds)\n",
    "\n",
    "    return np.mean(preds_ensemble, axis=0)"
   ]
  },
  {
   "cell_type": "markdown",
   "metadata": {},
   "source": [
    "# Pre-procecess images"
   ]
  },
  {
   "cell_type": "code",
   "execution_count": 5,
   "metadata": {
    "_kg_hide-input": true
   },
   "outputs": [],
   "source": [
    "new_data_base_path = '../input/aptos2019-blindness-detection/train_images/'\n",
    "test_base_path = '../input/aptos2019-blindness-detection/test_images/'\n",
    "train_dest_path = 'base_dir/train_images/'\n",
    "validation_dest_path = 'base_dir/validation_images/'\n",
    "test_dest_path =  'base_dir/test_images/'\n",
    "\n",
    "# Making sure directories don't exist\n",
    "if os.path.exists(train_dest_path):\n",
    "    shutil.rmtree(train_dest_path)\n",
    "if os.path.exists(validation_dest_path):\n",
    "    shutil.rmtree(validation_dest_path)\n",
    "if os.path.exists(test_dest_path):\n",
    "    shutil.rmtree(test_dest_path)\n",
    "    \n",
    "# Creating train, validation and test directories\n",
    "os.makedirs(train_dest_path)\n",
    "os.makedirs(validation_dest_path)\n",
    "os.makedirs(test_dest_path)\n",
    "\n",
    "def crop_image(img, tol=7):\n",
    "    if img.ndim ==2:\n",
    "        mask = img>tol\n",
    "        return img[np.ix_(mask.any(1),mask.any(0))]\n",
    "    elif img.ndim==3:\n",
    "        gray_img = cv2.cvtColor(img, cv2.COLOR_RGB2GRAY)\n",
    "        mask = gray_img>tol\n",
    "        check_shape = img[:,:,0][np.ix_(mask.any(1),mask.any(0))].shape[0]\n",
    "        if (check_shape == 0): # image is too dark so that we crop out everything,\n",
    "            return img # return original image\n",
    "        else:\n",
    "            img1=img[:,:,0][np.ix_(mask.any(1),mask.any(0))]\n",
    "            img2=img[:,:,1][np.ix_(mask.any(1),mask.any(0))]\n",
    "            img3=img[:,:,2][np.ix_(mask.any(1),mask.any(0))]\n",
    "            img = np.stack([img1,img2,img3],axis=-1)\n",
    "            \n",
    "        return img\n",
    "\n",
    "def circle_crop(img):\n",
    "    img = crop_image(img)\n",
    "\n",
    "    height, width, depth = img.shape\n",
    "    largest_side = np.max((height, width))\n",
    "    img = cv2.resize(img, (largest_side, largest_side))\n",
    "\n",
    "    height, width, depth = img.shape\n",
    "\n",
    "    x = width//2\n",
    "    y = height//2\n",
    "    r = np.amin((x, y))\n",
    "\n",
    "    circle_img = np.zeros((height, width), np.uint8)\n",
    "    cv2.circle(circle_img, (x, y), int(r), 1, thickness=-1)\n",
    "    img = cv2.bitwise_and(img, img, mask=circle_img)\n",
    "    img = crop_image(img)\n",
    "\n",
    "    return img\n",
    "        \n",
    "def preprocess_image(image_id, base_path, save_path, HEIGHT=HEIGHT, WIDTH=WIDTH, sigmaX=10):\n",
    "    image = cv2.imread(base_path + image_id)\n",
    "    image = cv2.cvtColor(image, cv2.COLOR_BGR2RGB)\n",
    "    image = circle_crop(image)\n",
    "    image = cv2.resize(image, (HEIGHT, WIDTH))\n",
    "#     image = cv2.addWeighted(image, 4, cv2.GaussianBlur(image, (0,0), sigmaX), -4 , 128)\n",
    "    cv2.imwrite(save_path + image_id, image)\n",
    "        \n",
    "def preprocess_data(df, HEIGHT=HEIGHT, WIDTH=WIDTH, sigmaX=10):\n",
    "    df = df.reset_index()\n",
    "    for i in range(df.shape[0]):\n",
    "        item = df.iloc[i]\n",
    "        image_id = item['id_code']\n",
    "        item_set = item['set']\n",
    "        if item_set == 'train':\n",
    "            preprocess_image(image_id, new_data_base_path, train_dest_path)\n",
    "        if item_set == 'validation':\n",
    "            preprocess_image(image_id, new_data_base_path, validation_dest_path)\n",
    "        \n",
    "def preprocess_test(df, base_path=test_base_path, save_path=test_dest_path, HEIGHT=HEIGHT, WIDTH=WIDTH, sigmaX=10):\n",
    "    df = df.reset_index()\n",
    "    for i in range(df.shape[0]):\n",
    "        image_id = df.iloc[i]['id_code']\n",
    "        preprocess_image(image_id, base_path, save_path)\n",
    "\n",
    "n_cpu = mp.cpu_count()\n",
    "train_n_cnt = X_train.shape[0] // n_cpu\n",
    "val_n_cnt = X_val.shape[0] // n_cpu\n",
    "test_n_cnt = test.shape[0] // n_cpu\n",
    "\n",
    "# Pre-procecss old data train set\n",
    "pool = mp.Pool(n_cpu)\n",
    "dfs = [X_train.iloc[train_n_cnt*i:train_n_cnt*(i+1)] for i in range(n_cpu)]\n",
    "dfs[-1] = X_train.iloc[train_n_cnt*(n_cpu-1):]\n",
    "res = pool.map(preprocess_data, [x_df for x_df in dfs])\n",
    "pool.close()\n",
    "\n",
    "# Pre-procecss validation set\n",
    "pool = mp.Pool(n_cpu)\n",
    "dfs = [X_val.iloc[val_n_cnt*i:val_n_cnt*(i+1)] for i in range(n_cpu)]\n",
    "dfs[-1] = X_val.iloc[val_n_cnt*(n_cpu-1):] \n",
    "res = pool.map(preprocess_data, [x_df for x_df in dfs])\n",
    "pool.close()\n",
    "\n",
    "# Pre-procecss test set\n",
    "pool = mp.Pool(n_cpu)\n",
    "dfs = [test.iloc[test_n_cnt*i:test_n_cnt*(i+1)] for i in range(n_cpu)]\n",
    "dfs[-1] = test.iloc[test_n_cnt*(n_cpu-1):] \n",
    "res = pool.map(preprocess_test, [x_df for x_df in dfs])\n",
    "pool.close()"
   ]
  },
  {
   "cell_type": "markdown",
   "metadata": {},
   "source": [
    "# Data generator"
   ]
  },
  {
   "cell_type": "code",
   "execution_count": 6,
   "metadata": {
    "_kg_hide-input": true
   },
   "outputs": [
    {
     "name": "stdout",
     "output_type": "stream",
     "text": [
      "Found 2929 validated image filenames.\n",
      "Found 733 validated image filenames.\n",
      "Found 1928 validated image filenames.\n"
     ]
    }
   ],
   "source": [
    "datagen=ImageDataGenerator(rescale=1./255, \n",
    "                           rotation_range=360,\n",
    "                           horizontal_flip=True,\n",
    "                           vertical_flip=True)\n",
    "\n",
    "train_generator=datagen.flow_from_dataframe(\n",
    "                        dataframe=X_train,\n",
    "                        directory=train_dest_path,\n",
    "                        x_col=\"id_code\",\n",
    "                        y_col=\"diagnosis\",\n",
    "                        class_mode=\"raw\",\n",
    "                        batch_size=1,\n",
    "                        shuffle=False,\n",
    "                        target_size=(HEIGHT, WIDTH),\n",
    "                        seed=seed)\n",
    "\n",
    "valid_generator=datagen.flow_from_dataframe(\n",
    "                        dataframe=X_val,\n",
    "                        directory=validation_dest_path,\n",
    "                        x_col=\"id_code\",\n",
    "                        y_col=\"diagnosis\",\n",
    "                        class_mode=\"raw\",\n",
    "                        batch_size=1,\n",
    "                        shuffle=False,\n",
    "                        target_size=(HEIGHT, WIDTH),\n",
    "                        seed=seed)\n",
    "\n",
    "test_generator=datagen.flow_from_dataframe(  \n",
    "                       dataframe=test,\n",
    "                       directory=test_dest_path,\n",
    "                       x_col=\"id_code\",\n",
    "                       batch_size=1,\n",
    "                       class_mode=None,\n",
    "                       shuffle=False,\n",
    "                       target_size=(HEIGHT, WIDTH),\n",
    "                       seed=seed)"
   ]
  },
  {
   "cell_type": "markdown",
   "metadata": {},
   "source": [
    "# Model"
   ]
  },
  {
   "cell_type": "code",
   "execution_count": 7,
   "metadata": {},
   "outputs": [],
   "source": [
    "def create_model(input_shape, weights_path):\n",
    "    input_tensor = Input(shape=input_shape)\n",
    "    base_model = EfficientNetB5(weights=None, \n",
    "                                include_top=False,\n",
    "                                input_tensor=input_tensor)\n",
    "\n",
    "    x = GlobalAveragePooling2D()(base_model.output)\n",
    "    final_output = Dense(1, activation='linear', name='final_output')(x)\n",
    "    model = Model(input_tensor, final_output)\n",
    "    model.load_weights(weights_path)\n",
    "    \n",
    "    return model"
   ]
  },
  {
   "cell_type": "code",
   "execution_count": 8,
   "metadata": {},
   "outputs": [],
   "source": [
    "model_list = []\n",
    "\n",
    "for weights_path in weights_path_list:\n",
    "    model_list.append(create_model(input_shape=(HEIGHT, WIDTH, CHANNELS), weights_path=weights_path))"
   ]
  },
  {
   "cell_type": "code",
   "execution_count": 9,
   "metadata": {
    "_kg_hide-input": true
   },
   "outputs": [],
   "source": [
    "# Train predictions\n",
    "preds_ensemble = ensemble_preds(model_list, train_generator)\n",
    "preds_ensemble = [classify(x) for x in preds_ensemble]\n",
    "train_preds = pd.DataFrame({'label':train_generator.labels, 'pred':preds_ensemble})\n",
    "\n",
    "# Validation predictions\n",
    "preds_ensemble = ensemble_preds(model_list, valid_generator)\n",
    "preds_ensemble = [classify(x) for x in preds_ensemble]\n",
    "validation_preds = pd.DataFrame({'label':valid_generator.labels, 'pred':preds_ensemble})"
   ]
  },
  {
   "cell_type": "markdown",
   "metadata": {},
   "source": [
    "# Model Evaluation"
   ]
  },
  {
   "cell_type": "markdown",
   "metadata": {},
   "source": [
    "## Confusion Matrix\n",
    "\n",
    "### Original thresholds"
   ]
  },
  {
   "cell_type": "code",
   "execution_count": 10,
   "metadata": {
    "_kg_hide-input": true
   },
   "outputs": [
    {
     "data": {
      "image/png": "[encoded data removed]",
      "text/plain": [
       "<Figure size 1728x504 with 4 Axes>"
      ]
     },
     "metadata": {
      "needs_background": "light"
     },
     "output_type": "display_data"
    }
   ],
   "source": [
    "plot_confusion_matrix((train_preds['label'], train_preds['pred']), (validation_preds['label'], validation_preds['pred']))"
   ]
  },
  {
   "cell_type": "markdown",
   "metadata": {},
   "source": [
    "## Quadratic Weighted Kappa"
   ]
  },
  {
   "cell_type": "code",
   "execution_count": 11,
   "metadata": {
    "_kg_hide-input": true
   },
   "outputs": [
    {
     "name": "stdout",
     "output_type": "stream",
     "text": [
      "Train        Cohen Kappa score: 0.959\n",
      "Validation   Cohen Kappa score: 0.963\n",
      "Complete set Cohen Kappa score: 0.960\n"
     ]
    }
   ],
   "source": [
    "evaluate_model((train_preds['label'], train_preds['pred']), (validation_preds['label'], validation_preds['pred']))"
   ]
  },
  {
   "cell_type": "markdown",
   "metadata": {},
   "source": [
    "## Apply model to test set and output predictions"
   ]
  },
  {
   "cell_type": "code",
   "execution_count": 12,
   "metadata": {
    "_kg_hide-input": true
   },
   "outputs": [],
   "source": [
    "preds = test_ensemble_preds(model_list, test_generator, TTA_STEPS)\n",
    "predictions = [classify(x) for x in preds]\n",
    "\n",
    "results = pd.DataFrame({'id_code':test['id_code'], 'diagnosis':predictions})\n",
    "results['id_code'] = results['id_code'].map(lambda x: str(x)[:-4])"
   ]
  },
  {
   "cell_type": "code",
   "execution_count": 13,
   "metadata": {
    "_kg_hide-input": true,
    "_kg_hide-output": false
   },
   "outputs": [],
   "source": [
    "# Cleaning created directories\n",
    "if os.path.exists(train_dest_path):\n",
    "    shutil.rmtree(train_dest_path)\n",
    "if os.path.exists(validation_dest_path):\n",
    "    shutil.rmtree(validation_dest_path)\n",
    "if os.path.exists(test_dest_path):\n",
    "    shutil.rmtree(test_dest_path)"
   ]
  },
  {
   "cell_type": "markdown",
   "metadata": {},
   "source": [
    "# Predictions class distribution"
   ]
  },
  {
   "cell_type": "code",
   "execution_count": 14,
   "metadata": {
    "_kg_hide-input": true
   },
   "outputs": [
    {
     "data": {
      "image/png": "[encoded data removed]",
      "text/plain": [
       "<Figure size 1728x626.4 with 1 Axes>"
      ]
     },
     "metadata": {
      "needs_background": "light"
     },
     "output_type": "display_data"
    }
   ],
   "source": [
    "fig = plt.subplots(sharex='col', figsize=(24, 8.7))\n",
    "sns.countplot(x=\"diagnosis\", data=results, palette=\"GnBu_d\").set_title('Test')\n",
    "sns.despine()\n",
    "plt.show()"
   ]
  },
  {
   "cell_type": "code",
   "execution_count": 15,
   "metadata": {
    "_kg_hide-input": true
   },
   "outputs": [
    {
     "data": {
      "text/html": [
       "<div>\n",
       "<style scoped>\n",
       "    .dataframe tbody tr th:only-of-type {\n",
       "        vertical-align: middle;\n",
       "    }\n",
       "\n",
       "    .dataframe tbody tr th {\n",
       "        vertical-align: top;\n",
       "    }\n",
       "\n",
       "    .dataframe thead th {\n",
       "        text-align: right;\n",
       "    }\n",
       "</style>\n",
       "<table border=\"1\" class=\"dataframe\">\n",
       "  <thead>\n",
       "    <tr style=\"text-align: right;\">\n",
       "      <th></th>\n",
       "      <th>id_code</th>\n",
       "      <th>diagnosis</th>\n",
       "    </tr>\n",
       "  </thead>\n",
       "  <tbody>\n",
       "    <tr>\n",
       "      <th>0</th>\n",
       "      <td>0005cfc8afb6</td>\n",
       "      <td>1</td>\n",
       "    </tr>\n",
       "    <tr>\n",
       "      <th>1</th>\n",
       "      <td>003f0afdcd15</td>\n",
       "      <td>3</td>\n",
       "    </tr>\n",
       "    <tr>\n",
       "      <th>2</th>\n",
       "      <td>006efc72b638</td>\n",
       "      <td>3</td>\n",
       "    </tr>\n",
       "    <tr>\n",
       "      <th>3</th>\n",
       "      <td>00836aaacf06</td>\n",
       "      <td>2</td>\n",
       "    </tr>\n",
       "    <tr>\n",
       "      <th>4</th>\n",
       "      <td>009245722fa4</td>\n",
       "      <td>2</td>\n",
       "    </tr>\n",
       "  </tbody>\n",
       "</table>\n",
       "</div>"
      ],
      "text/plain": [
       "        id_code  diagnosis\n",
       "0  0005cfc8afb6          1\n",
       "1  003f0afdcd15          3\n",
       "2  006efc72b638          3\n",
       "3  00836aaacf06          2\n",
       "4  009245722fa4          2"
      ]
     },
     "metadata": {},
     "output_type": "display_data"
    }
   ],
   "source": [
    "results.to_csv('submission.csv', index=False)\n",
    "display(results.head())"
   ]
  }
 ],
 "metadata": {
  "kernelspec": {
   "display_name": "Python 3",
   "language": "python",
   "name": "python3"
  },
  "language_info": {
   "codemirror_mode": {
    "name": "ipython",
    "version": 3
   },
   "file_extension": ".py",
   "mimetype": "text/x-python",
   "name": "python",
   "nbconvert_exporter": "python",
   "pygments_lexer": "ipython3",
   "version": "3.7.3"
  }
 },
 "nbformat": 4,
 "nbformat_minor": 1
}
