{
 "cells": [
  {
   "cell_type": "code",
   "execution_count": 35,
   "metadata": {},
   "outputs": [],
   "source": [
    "import pandas as pd\n",
    "import os\n",
    "import cv2"
   ]
  },
  {
   "cell_type": "code",
   "execution_count": 27,
   "metadata": {},
   "outputs": [
    {
     "name": "stdout",
     "output_type": "stream",
     "text": [
      "31986\n",
      "3140\n"
     ]
    }
   ],
   "source": [
    "data_path = \"../data/dr_data_2\"\n",
    "test_path = \"../data/dr_test\"\n",
    "data = pd.read_csv(f\"{data_path}/train_old.csv\")\n",
    "\n",
    "data_0 = data[data[\"level\"] == 0].head(3000)\n",
    "data_1 = data[data[\"level\"] == 1].head(50)\n",
    "data_2 = data[data[\"level\"] == 2].head(50)\n",
    "data_3 = data[data[\"level\"] == 3].head(20)\n",
    "data_4 = data[data[\"level\"] == 4].head(20)\n",
    "\n",
    "dr_test = pd.concat([data_0, data_1, data_2, data_3, data_4])\n",
    "dr_test.columns = data.columns\n",
    "data_new = data.drop(dr_test.index)\n",
    "print(len(data_new))\n",
    "print(len(dr_test))\n",
    "data_new.to_csv(f\"{data_path}/train.csv\")\n",
    "dr_test.to_csv(f\"{test_path}/test.csv\")"
   ]
  },
  {
   "cell_type": "code",
   "execution_count": 58,
   "metadata": {},
   "outputs": [
    {
     "name": "stdout",
     "output_type": "stream",
     "text": [
      "     image  level\n",
      "0  10_left      0\n",
      "=====\n"
     ]
    }
   ],
   "source": [
    "for image_path in dr_test[\"image\"]:\n",
    "    img = cv2.imread(f\"{data_path}/train/{image_path}.jpeg\")\n",
    "    cv2.imwrite(f\"{test_path}/test/{image_path}.jpeg\", img)\n",
    "    row = dr_test[dr_test[\"image\"] == image_path]\n",
    "    data = row[row[\"level\"] == 0]\n",
    "    print(data)\n",
    "    if data.empty is False:\n",
    "        os.remove(f\"{data_path}/train/{image_path}.jpeg\")"
   ]
  },
  {
   "cell_type": "code",
   "execution_count": null,
   "metadata": {},
   "outputs": [],
   "source": []
  },
  {
   "cell_type": "code",
   "execution_count": null,
   "metadata": {},
   "outputs": [],
   "source": []
  }
 ],
 "metadata": {
  "kernelspec": {
   "display_name": "Python 3",
   "language": "python",
   "name": "python3"
  },
  "language_info": {
   "codemirror_mode": {
    "name": "ipython",
    "version": 3
   },
   "file_extension": ".py",
   "mimetype": "text/x-python",
   "name": "python",
   "nbconvert_exporter": "python",
   "pygments_lexer": "ipython3",
   "version": "3.7.3"
  }
 },
 "nbformat": 4,
 "nbformat_minor": 4
}
