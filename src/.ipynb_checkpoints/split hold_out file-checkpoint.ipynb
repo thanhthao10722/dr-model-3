{
 "cells": [
  {
   "cell_type": "code",
   "execution_count": 1,
   "metadata": {},
   "outputs": [],
   "source": [
    "import os\n",
    "import cv2\n",
    "import random\n",
    "import warnings\n",
    "import numpy as np\n",
    "import pandas as pd\n",
    "import seaborn as sns\n",
    "import matplotlib.pyplot as plt\n",
    "from sklearn.model_selection import train_test_split, StratifiedKFold\n",
    "\n",
    "# Set seeds to make the experiment more reproducible.\n",
    "def seed_everything(seed=0):\n",
    "    random.seed(seed)\n",
    "    os.environ['PYTHONHASHSEED'] = str(seed)\n",
    "    np.random.seed(seed)\n",
    "    \n",
    "seed = 0\n",
    "seed_everything(seed)\n",
    "\n",
    "%matplotlib inline\n",
    "sns.set(style=\"white\")\n",
    "warnings.filterwarnings(\"ignore\")\n",
    "# import os\n",
    "# print(os.listdir(\"../data/dr_data_1\"))"
   ]
  },
  {
   "cell_type": "code",
   "execution_count": 5,
   "metadata": {},
   "outputs": [
    {
     "name": "stdout",
     "output_type": "stream",
     "text": [
      "Fold: 0, Train size: 2929, Validation size 733\n",
      "Fold: 1, Train size: 2929, Validation size 733\n",
      "Fold: 2, Train size: 2930, Validation size 732\n",
      "Fold: 3, Train size: 2930, Validation size 732\n",
      "Fold: 4, Train size: 2930, Validation size 732\n"
     ]
    },
    {
     "data": {
      "text/html": [
       "<div>\n",
       "<style scoped>\n",
       "    .dataframe tbody tr th:only-of-type {\n",
       "        vertical-align: middle;\n",
       "    }\n",
       "\n",
       "    .dataframe tbody tr th {\n",
       "        vertical-align: top;\n",
       "    }\n",
       "\n",
       "    .dataframe thead th {\n",
       "        text-align: right;\n",
       "    }\n",
       "</style>\n",
       "<table border=\"1\" class=\"dataframe\">\n",
       "  <thead>\n",
       "    <tr style=\"text-align: right;\">\n",
       "      <th></th>\n",
       "      <th>id_code</th>\n",
       "      <th>diagnosis</th>\n",
       "    </tr>\n",
       "  </thead>\n",
       "  <tbody>\n",
       "    <tr>\n",
       "      <th>0</th>\n",
       "      <td>train</td>\n",
       "      <td>train</td>\n",
       "    </tr>\n",
       "    <tr>\n",
       "      <th>1</th>\n",
       "      <td>validation</td>\n",
       "      <td>validation</td>\n",
       "    </tr>\n",
       "    <tr>\n",
       "      <th>2</th>\n",
       "      <td>train</td>\n",
       "      <td>train</td>\n",
       "    </tr>\n",
       "    <tr>\n",
       "      <th>3</th>\n",
       "      <td>train</td>\n",
       "      <td>train</td>\n",
       "    </tr>\n",
       "    <tr>\n",
       "      <th>4</th>\n",
       "      <td>train</td>\n",
       "      <td>train</td>\n",
       "    </tr>\n",
       "  </tbody>\n",
       "</table>\n",
       "</div>"
      ],
      "text/plain": [
       "      id_code   diagnosis\n",
       "0       train       train\n",
       "1  validation  validation\n",
       "2       train       train\n",
       "3       train       train\n",
       "4       train       train"
      ]
     },
     "metadata": {},
     "output_type": "display_data"
    }
   ],
   "source": [
    "data_1 = pd.read_csv('../data/dr_data_1/train.csv')\n",
    "folds = StratifiedKFold(n_splits=5, shuffle=True, random_state=seed)\n",
    "\n",
    "for fold_n, (train_index, val_index) in enumerate(folds.split(data_1, data_1['diagnosis'])):\n",
    "    print('Fold: %s, Train size: %s, Validation size %s' % \n",
    "          (fold_n, len(train_index), len(val_index)))\n",
    "#     data_1[('fold_%s' % fold_n)] = 0\n",
    "    data_1['type'].loc[train_index] = 'train'\n",
    "    data_1['type'].loc[val_index] = 'validation'\n",
    "    \n",
    "display(data_1.head())\n",
    "data_1.to_csv(\"hould_out.csv\")"
   ]
  },
  {
   "cell_type": "code",
   "execution_count": null,
   "metadata": {},
   "outputs": [],
   "source": []
  }
 ],
 "metadata": {
  "kernelspec": {
   "display_name": "Python 3",
   "language": "python",
   "name": "python3"
  },
  "language_info": {
   "codemirror_mode": {
    "name": "ipython",
    "version": 3
   },
   "file_extension": ".py",
   "mimetype": "text/x-python",
   "name": "python",
   "nbconvert_exporter": "python",
   "pygments_lexer": "ipython3",
   "version": "3.7.3"
  }
 },
 "nbformat": 4,
 "nbformat_minor": 4
}
